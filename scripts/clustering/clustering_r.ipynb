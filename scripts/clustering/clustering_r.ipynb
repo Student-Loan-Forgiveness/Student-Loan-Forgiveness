{
 "cells": [
  {
   "cell_type": "markdown",
   "id": "a834626e",
   "metadata": {},
   "source": [
    "# Hierarchical Clustering using R"
   ]
  },
  {
   "cell_type": "code",
   "execution_count": 1,
   "id": "834e1159",
   "metadata": {},
   "outputs": [
    {
     "name": "stderr",
     "output_type": "stream",
     "text": [
      "Warning message:\n",
      "\"package 'tm' was built under R version 4.3.3\"\n",
      "Loading required package: NLP\n",
      "\n",
      "Warning message:\n",
      "\"package 'NLP' was built under R version 4.3.3\"\n",
      "Warning message:\n",
      "\"package 'wordcloud' was built under R version 4.3.3\"\n",
      "Loading required package: RColorBrewer\n",
      "\n",
      "Warning message:\n",
      "\"package 'slam' was built under R version 4.3.3\"\n",
      "Warning message:\n",
      "\"package 'quanteda' was built under R version 4.3.3\"\n",
      "Package version: 4.2.0\n",
      "Unicode version: 13.0\n",
      "ICU version: 69.1\n",
      "\n",
      "Parallel computing: 16 of 16 threads used.\n",
      "\n",
      "See https://quanteda.io for tutorials and examples.\n",
      "\n",
      "\n",
      "Attaching package: 'quanteda'\n",
      "\n",
      "\n",
      "The following object is masked from 'package:tm':\n",
      "\n",
      "    stopwords\n",
      "\n",
      "\n",
      "The following objects are masked from 'package:NLP':\n",
      "\n",
      "    meta, meta<-\n",
      "\n",
      "\n",
      "Warning message:\n",
      "\"package 'arules' was built under R version 4.3.3\"\n",
      "Loading required package: Matrix\n",
      "\n",
      "Warning message:\n",
      "\"package 'Matrix' was built under R version 4.3.3\"\n",
      "\n",
      "Attaching package: 'arules'\n",
      "\n",
      "\n",
      "The following object is masked from 'package:tm':\n",
      "\n",
      "    inspect\n",
      "\n",
      "\n",
      "The following objects are masked from 'package:base':\n",
      "\n",
      "    abbreviate, write\n",
      "\n",
      "\n",
      "Warning message:\n",
      "\"package 'proxy' was built under R version 4.3.2\"\n",
      "\n",
      "Attaching package: 'proxy'\n",
      "\n",
      "\n",
      "The following object is masked from 'package:Matrix':\n",
      "\n",
      "    as.matrix\n",
      "\n",
      "\n",
      "The following objects are masked from 'package:stats':\n",
      "\n",
      "    as.dist, dist\n",
      "\n",
      "\n",
      "The following object is masked from 'package:base':\n",
      "\n",
      "    as.matrix\n",
      "\n",
      "\n",
      "Warning message:\n",
      "\"package 'tidytext' was built under R version 4.3.3\"\n",
      "Warning message:\n",
      "\"package 'plyr' was built under R version 4.3.2\"\n",
      "Warning message:\n",
      "\"package 'ggplot2' was built under R version 4.3.3\"\n",
      "\n",
      "Attaching package: 'ggplot2'\n",
      "\n",
      "\n",
      "The following object is masked from 'package:NLP':\n",
      "\n",
      "    annotate\n",
      "\n",
      "\n",
      "Warning message:\n",
      "\"package 'factoextra' was built under R version 4.3.3\"\n",
      "Welcome! Want to learn more? See two factoextra-related books at https://goo.gl/ve3WBa\n",
      "\n",
      "Warning message:\n",
      "\"package 'mclust' was built under R version 4.3.3\"\n",
      "Package 'mclust' version 6.1.1\n",
      "Type 'citation(\"mclust\")' for citing this R package in publications.\n",
      "\n",
      "Warning message:\n",
      "\"package 'textstem' was built under R version 4.3.3\"\n",
      "Loading required package: koRpus.lang.en\n",
      "\n",
      "Warning message:\n",
      "\"package 'koRpus.lang.en' was built under R version 4.3.3\"\n",
      "Loading required package: koRpus\n",
      "\n",
      "Warning message:\n",
      "\"package 'koRpus' was built under R version 4.3.3\"\n",
      "Loading required package: sylly\n",
      "\n",
      "Warning message:\n",
      "\"package 'sylly' was built under R version 4.3.3\"\n",
      "For information on available language packages for 'koRpus', run\n",
      "\n",
      "  available.koRpus.lang()\n",
      "\n",
      "and see ?install.koRpus.lang()\n",
      "\n",
      "\n",
      "\n",
      "Attaching package: 'koRpus'\n",
      "\n",
      "\n",
      "The following objects are masked from 'package:quanteda':\n",
      "\n",
      "    tokens, types\n",
      "\n",
      "\n",
      "The following object is masked from 'package:tm':\n",
      "\n",
      "    readTagged\n",
      "\n",
      "\n",
      "Warning message:\n",
      "\"package 'amap' was built under R version 4.3.3\"\n",
      "Warning message:\n",
      "\"package 'networkD3' was built under R version 4.3.3\"\n",
      "Warning message:\n",
      "\"package 'dendextend' was built under R version 4.3.3\"\n",
      "\n",
      "---------------------\n",
      "Welcome to dendextend version 1.19.0\n",
      "Type citation('dendextend') for how to cite the package.\n",
      "\n",
      "Type browseVignettes(package = 'dendextend') for the package vignette.\n",
      "The github page is: https://github.com/talgalili/dendextend/\n",
      "\n",
      "Suggestions and bug-reports can be submitted at: https://github.com/talgalili/dendextend/issues\n",
      "You may ask questions at stackoverflow, use the r and dendextend tags: \n",
      "\t https://stackoverflow.com/questions/tagged/dendextend\n",
      "\n",
      "\tTo suppress this message use:  suppressPackageStartupMessages(library(dendextend))\n",
      "---------------------\n",
      "\n",
      "\n",
      "\n",
      "Attaching package: 'dendextend'\n",
      "\n",
      "\n",
      "The following object is masked from 'package:stats':\n",
      "\n",
      "    cutree\n",
      "\n",
      "\n"
     ]
    }
   ],
   "source": [
    "# import libraries\n",
    "library(tm)\n",
    "library(stringr)\n",
    "library(wordcloud)\n",
    "library(slam)\n",
    "library(quanteda)\n",
    "library(SnowballC)\n",
    "library(arules)\n",
    "library(proxy)\n",
    "library(cluster)\n",
    "library(stringi)\n",
    "library(proxy)\n",
    "library(Matrix)\n",
    "library(tidytext)\n",
    "library(plyr)\n",
    "library(ggplot2)\n",
    "library(factoextra)\n",
    "library(mclust)\n",
    "library(textstem)\n",
    "library(amap)\n",
    "library(networkD3)\n",
    "library(dendextend)"
   ]
  },
  {
   "cell_type": "markdown",
   "id": "af32a236",
   "metadata": {},
   "source": [
    "## NewsAPI"
   ]
  },
  {
   "cell_type": "code",
   "execution_count": 73,
   "id": "ba4d7e01",
   "metadata": {},
   "outputs": [],
   "source": [
    "# extract corpus\n",
    "newsapi <- Corpus(DirSource('corpus_newsapi'))"
   ]
  },
  {
   "cell_type": "code",
   "execution_count": 74,
   "id": "10304e64",
   "metadata": {},
   "outputs": [],
   "source": [
    "# create document term matrix\n",
    "dtm_newsapi <- as.matrix(DocumentTermMatrix(newsapi))"
   ]
  },
  {
   "cell_type": "code",
   "execution_count": 75,
   "id": "910f75f0",
   "metadata": {},
   "outputs": [],
   "source": [
    "# calculate cosine similarity distance\n",
    "cosine_newsapi <- dist(dtm_newsapi, method='cosine')"
   ]
  },
  {
   "cell_type": "code",
   "execution_count": 76,
   "id": "e986491f",
   "metadata": {},
   "outputs": [],
   "source": [
    "# create clusters\n",
    "clusters_newsapi <- hclust(cosine_newsapi, method='ward.D2')"
   ]
  },
  {
   "cell_type": "code",
   "execution_count": 6,
   "id": "352cfe93",
   "metadata": {},
   "outputs": [],
   "source": [
    "# create cuts (2 - 6)\n",
    "cut_2_newsapi <- cutree(clusters_newsapi, k=2)\n",
    "cut_3_newsapi <- cutree(clusters_newsapi, k=3)\n",
    "cut_4_newsapi <- cutree(clusters_newsapi, k=4)\n",
    "cut_5_newsapi <- cutree(clusters_newsapi, k=5)\n",
    "cut_6_newsapi <- cutree(clusters_newsapi, k=6)"
   ]
  },
  {
   "cell_type": "code",
   "execution_count": 7,
   "id": "9116e6cd",
   "metadata": {},
   "outputs": [],
   "source": [
    "# create results dataframe\n",
    "results_newsapi <- data.frame(\n",
    "    File = rownames(dtm_newsapi),\n",
    "    cluster_2 = cut_2_newsapi,\n",
    "    cluster_3 = cut_3_newsapi,\n",
    "    cluster_4 = cut_4_newsapi,\n",
    "    cluster_5 = cut_5_newsapi,\n",
    "    cluster_6 = cut_6_newsapi\n",
    ")"
   ]
  },
  {
   "cell_type": "raw",
   "id": "e345b9d5",
   "metadata": {},
   "source": [
    "# save results dataframe\n",
    "write.csv(results_newsapi, 'hierarchical_results/hierarchical_newsapi.csv', row.names=FALSE)"
   ]
  },
  {
   "cell_type": "code",
   "execution_count": 77,
   "id": "df4113f2",
   "metadata": {},
   "outputs": [],
   "source": [
    "# create dendrogram object\n",
    "dend <- as.dendrogram(clusters_newsapi)"
   ]
  },
  {
   "cell_type": "code",
   "execution_count": 80,
   "id": "b5c95175",
   "metadata": {},
   "outputs": [],
   "source": [
    "# relabel\n",
    "labels(dend) <- rep(\"\", length(labels(dend)))"
   ]
  },
  {
   "cell_type": "code",
   "execution_count": 89,
   "id": "4baf9214",
   "metadata": {},
   "outputs": [
    {
     "data": {
      "image/png": "[encoded data removed]",
      "text/plain": [
       "Plot with title \"NewsAPI Political Bias Cluster Pairings\""
      ]
     },
     "metadata": {
      "image/png": {
       "height": 420,
       "width": 420
      }
     },
     "output_type": "display_data"
    }
   ],
   "source": [
    "# adjust margins\n",
    "par(mar=c(1, 1, 1, 1), oma=c(0, 0, 0, 5))\n",
    "\n",
    "# plot dendrogram\n",
    "dend %>%\n",
    "  set(\"labels_col\", value = c(\"blue\", \"orange\", \"grey\", \"grey\", \"orange\", \"blue\"), k=6) %>%\n",
    "  set(\"branches_k_color\", value = c(\"blue\", \"orange\", \"grey\", \"grey\", \"orange\", \"blue\"), k=6) %>%\n",
    "  plot(horiz=TRUE, axes=FALSE, main=\"NewsAPI Political Bias Cluster Pairings\")\n",
    "abline(v = 350, lty = 2)\n",
    "\n",
    "# custom labels\n",
    "mtext(\"Center\", side=4, line=0, at=310, cex=1.2, las=1)\n",
    "mtext(\"Center\", side=4, line=0, at=50, cex=1.2, las=1)\n",
    "mtext(\"Left\", side=4, line=0, at=255, cex=1.2, las=1)\n",
    "mtext(\"Left\", side=4, line=0, at=120, cex=1.2, las=1)\n",
    "mtext(\"Right\", side=4, line=0, at=210, cex=1.2, las=1)\n",
    "mtext(\"Right\", side=4, line=0, at=165, cex=1.2, las=1)"
   ]
  },
  {
   "cell_type": "markdown",
   "id": "6c1668e8",
   "metadata": {},
   "source": [
    "## NewsApi - Reddit Base"
   ]
  },
  {
   "cell_type": "code",
   "execution_count": 2,
   "id": "e85ee89f",
   "metadata": {},
   "outputs": [],
   "source": [
    "# extract corpus\n",
    "newsapi_reddit_base <- Corpus(DirSource('corpus_newsapi_reddit_base'))"
   ]
  },
  {
   "cell_type": "code",
   "execution_count": 6,
   "id": "f1d52867",
   "metadata": {},
   "outputs": [],
   "source": [
    "# create document term matrix\n",
    "dtm_newsapi_reddit_base <- DocumentTermMatrix(newsapi_reddit_base)"
   ]
  },
  {
   "cell_type": "code",
   "execution_count": 9,
   "id": "742d6b9a",
   "metadata": {},
   "outputs": [],
   "source": [
    "# calculate tfidf\n",
    "tfidf_newsapi_reddit_base <- as.matrix(weightTfIdf(dtm_newsapi_reddit_base))"
   ]
  },
  {
   "cell_type": "code",
   "execution_count": 12,
   "id": "e6dfe073",
   "metadata": {},
   "outputs": [],
   "source": [
    "# calculate cosine similarity distance\n",
    "cosine_newsapi_reddit_base <- dist(tfidf_newsapi_reddit_base, method='cosine')"
   ]
  },
  {
   "cell_type": "code",
   "execution_count": 13,
   "id": "0a593827",
   "metadata": {},
   "outputs": [],
   "source": [
    "# create clusters\n",
    "clusters_newsapi_reddit_base <- hclust(cosine_newsapi_reddit_base, method='ward.D2')"
   ]
  },
  {
   "cell_type": "code",
   "execution_count": 15,
   "id": "a6d43258",
   "metadata": {},
   "outputs": [],
   "source": [
    "# create cuts (2 - 6)\n",
    "cut_2_newsapi_reddit_base <- cutree(clusters_newsapi_reddit_base, k=2)\n",
    "cut_3_newsapi_reddit_base <- cutree(clusters_newsapi_reddit_base, k=3)\n",
    "cut_4_newsapi_reddit_base <- cutree(clusters_newsapi_reddit_base, k=4)\n",
    "cut_5_newsapi_reddit_base <- cutree(clusters_newsapi_reddit_base, k=5)\n",
    "cut_6_newsapi_reddit_base <- cutree(clusters_newsapi_reddit_base, k=6)"
   ]
  },
  {
   "cell_type": "code",
   "execution_count": 16,
   "id": "8ce4ca6f",
   "metadata": {},
   "outputs": [],
   "source": [
    "# create results dataframe\n",
    "results_newsapi_reddit_base <- data.frame(\n",
    "    File = rownames(tfidf_newsapi_reddit_base),\n",
    "    cluster_2 = cut_2_newsapi_reddit_base,\n",
    "    cluster_3 = cut_3_newsapi_reddit_base,\n",
    "    cluster_4 = cut_4_newsapi_reddit_base,\n",
    "    cluster_5 = cut_5_newsapi_reddit_base,\n",
    "    cluster_6 = cut_6_newsapi_reddit_base\n",
    ")"
   ]
  },
  {
   "cell_type": "code",
   "execution_count": 17,
   "id": "0b44c0e7",
   "metadata": {},
   "outputs": [],
   "source": [
    "# save results dataframe\n",
    "write.csv(results_newsapi_reddit_base, 'hierarchical_results/hierarchical_newsapi_reddit_base.csv', row.names=FALSE)"
   ]
  },
  {
   "cell_type": "markdown",
   "id": "2e141572",
   "metadata": {},
   "source": [
    "## NewsApi - Reddit Author"
   ]
  },
  {
   "cell_type": "code",
   "execution_count": 18,
   "id": "8eea53bc",
   "metadata": {},
   "outputs": [],
   "source": [
    "# extract corpus\n",
    "newsapi_reddit_author <- Corpus(DirSource('corpus_newsapi_reddit_author'))"
   ]
  },
  {
   "cell_type": "code",
   "execution_count": 19,
   "id": "1334c602",
   "metadata": {},
   "outputs": [],
   "source": [
    "# create document term matrix\n",
    "dtm_newsapi_reddit_author <- DocumentTermMatrix(newsapi_reddit_author)"
   ]
  },
  {
   "cell_type": "code",
   "execution_count": 20,
   "id": "af3bf929",
   "metadata": {},
   "outputs": [],
   "source": [
    "# calculate tfidf\n",
    "tfidf_newsapi_reddit_author <- as.matrix(weightTfIdf(dtm_newsapi_reddit_author))"
   ]
  },
  {
   "cell_type": "code",
   "execution_count": 21,
   "id": "a7f23d5f",
   "metadata": {},
   "outputs": [],
   "source": [
    "# calculate cosine similarity distance\n",
    "cosine_newsapi_reddit_author <- dist(tfidf_newsapi_reddit_author, method='cosine')"
   ]
  },
  {
   "cell_type": "code",
   "execution_count": 22,
   "id": "0eb83f4f",
   "metadata": {},
   "outputs": [],
   "source": [
    "# create clusters\n",
    "clusters_newsapi_reddit_author <- hclust(cosine_newsapi_reddit_author, method='ward.D2')"
   ]
  },
  {
   "cell_type": "code",
   "execution_count": 23,
   "id": "35b9c6a6",
   "metadata": {},
   "outputs": [],
   "source": [
    "# create cuts (2 - 6)\n",
    "cut_2_newsapi_reddit_author <- cutree(clusters_newsapi_reddit_author, k=2)\n",
    "cut_3_newsapi_reddit_author <- cutree(clusters_newsapi_reddit_author, k=3)\n",
    "cut_4_newsapi_reddit_author <- cutree(clusters_newsapi_reddit_author, k=4)\n",
    "cut_5_newsapi_reddit_author <- cutree(clusters_newsapi_reddit_author, k=5)\n",
    "cut_6_newsapi_reddit_author <- cutree(clusters_newsapi_reddit_author, k=6)"
   ]
  },
  {
   "cell_type": "code",
   "execution_count": 24,
   "id": "df3fa139",
   "metadata": {},
   "outputs": [],
   "source": [
    "# create results dataframe\n",
    "results_newsapi_reddit_author <- data.frame(\n",
    "    File = rownames(tfidf_newsapi_reddit_author),\n",
    "    cluster_2 = cut_2_newsapi_reddit_author,\n",
    "    cluster_3 = cut_3_newsapi_reddit_author,\n",
    "    cluster_4 = cut_4_newsapi_reddit_author,\n",
    "    cluster_5 = cut_5_newsapi_reddit_author,\n",
    "    cluster_6 = cut_6_newsapi_reddit_author\n",
    ")"
   ]
  },
  {
   "cell_type": "code",
   "execution_count": 25,
   "id": "38d55351",
   "metadata": {},
   "outputs": [],
   "source": [
    "# save results dataframe\n",
    "write.csv(results_newsapi_reddit_author, 'hierarchical_results/hierarchical_newsapi_reddit_author.csv', row.names=FALSE)"
   ]
  },
  {
   "cell_type": "markdown",
   "id": "7d526ef8",
   "metadata": {},
   "source": [
    "## NewsApi - Reddit Threads"
   ]
  },
  {
   "cell_type": "code",
   "execution_count": 32,
   "id": "334e2863",
   "metadata": {},
   "outputs": [],
   "source": [
    "# extract corpus\n",
    "newsapi_reddit_thread <- Corpus(DirSource('corpus_newsapi_reddit_thread'))"
   ]
  },
  {
   "cell_type": "code",
   "execution_count": 35,
   "id": "619bbd15",
   "metadata": {},
   "outputs": [],
   "source": [
    "# create document term matrix\n",
    "dtm_newsapi_reddit_thread <- DocumentTermMatrix(newsapi_reddit_thread)"
   ]
  },
  {
   "cell_type": "code",
   "execution_count": 36,
   "id": "b27179d7",
   "metadata": {},
   "outputs": [],
   "source": [
    "# calculate tfidf\n",
    "tfidf_newsapi_reddit_thread <- as.matrix(weightTfIdf(dtm_newsapi_reddit_thread))"
   ]
  },
  {
   "cell_type": "code",
   "execution_count": 37,
   "id": "bd7d416b",
   "metadata": {},
   "outputs": [],
   "source": [
    "# calculate cosine similarity distance\n",
    "cosine_newsapi_reddit_thread <- dist(tfidf_newsapi_reddit_thread, method='cosine')"
   ]
  },
  {
   "cell_type": "code",
   "execution_count": 38,
   "id": "96406377",
   "metadata": {},
   "outputs": [],
   "source": [
    "# create clusters\n",
    "clusters_newsapi_reddit_thread <- hclust(cosine_newsapi_reddit_thread, method='ward.D2')"
   ]
  },
  {
   "cell_type": "code",
   "execution_count": 39,
   "id": "4c9371b8",
   "metadata": {},
   "outputs": [],
   "source": [
    "# create cuts (2 - 6)\n",
    "cut_2_newsapi_reddit_thread <- cutree(clusters_newsapi_reddit_thread, k=2)\n",
    "cut_3_newsapi_reddit_thread <- cutree(clusters_newsapi_reddit_thread, k=3)\n",
    "cut_4_newsapi_reddit_thread <- cutree(clusters_newsapi_reddit_thread, k=4)\n",
    "cut_5_newsapi_reddit_thread <- cutree(clusters_newsapi_reddit_thread, k=5)\n",
    "cut_6_newsapi_reddit_thread <- cutree(clusters_newsapi_reddit_thread, k=6)"
   ]
  },
  {
   "cell_type": "code",
   "execution_count": 40,
   "id": "6caa93db",
   "metadata": {},
   "outputs": [],
   "source": [
    "# create results dataframe\n",
    "results_newsapi_reddit_thread <- data.frame(\n",
    "    File = rownames(tfidf_newsapi_reddit_thread),\n",
    "    cluster_2 = cut_2_newsapi_reddit_thread,\n",
    "    cluster_3 = cut_3_newsapi_reddit_thread,\n",
    "    cluster_4 = cut_4_newsapi_reddit_thread,\n",
    "    cluster_5 = cut_5_newsapi_reddit_thread,\n",
    "    cluster_6 = cut_6_newsapi_reddit_thread\n",
    ")"
   ]
  },
  {
   "cell_type": "code",
   "execution_count": 41,
   "id": "d715c55b",
   "metadata": {},
   "outputs": [],
   "source": [
    "# save results dataframe\n",
    "write.csv(results_newsapi_reddit_thread, 'hierarchical_results/hierarchical_newsapi_reddit_thread.csv', row.names=FALSE)"
   ]
  },
  {
   "cell_type": "markdown",
   "id": "28fd338a",
   "metadata": {},
   "source": [
    "## NewsApi - Reddit Subreddits"
   ]
  },
  {
   "cell_type": "code",
   "execution_count": 46,
   "id": "3e237da8",
   "metadata": {},
   "outputs": [],
   "source": [
    "# extract corpus\n",
    "newsapi_reddit_subreddit <- Corpus(DirSource('corpus_newsapi_reddit_subreddit'))"
   ]
  },
  {
   "cell_type": "code",
   "execution_count": 47,
   "id": "02db75e1",
   "metadata": {},
   "outputs": [],
   "source": [
    "# create document term matrix\n",
    "dtm_newsapi_reddit_subreddit <- DocumentTermMatrix(newsapi_reddit_subreddit)"
   ]
  },
  {
   "cell_type": "code",
   "execution_count": 48,
   "id": "f9d2dac5",
   "metadata": {},
   "outputs": [],
   "source": [
    "# calculate tfidf\n",
    "tfidf_newsapi_reddit_subreddit <- as.matrix(weightTfIdf(dtm_newsapi_reddit_subreddit))"
   ]
  },
  {
   "cell_type": "code",
   "execution_count": 49,
   "id": "2040bbba",
   "metadata": {},
   "outputs": [],
   "source": [
    "# calculate cosine similarity distance\n",
    "cosine_newsapi_reddit_subreddit <- dist(tfidf_newsapi_reddit_subreddit, method='cosine')"
   ]
  },
  {
   "cell_type": "code",
   "execution_count": 50,
   "id": "83ff83cd",
   "metadata": {},
   "outputs": [],
   "source": [
    "# create clusters\n",
    "clusters_newsapi_reddit_subreddit <- hclust(cosine_newsapi_reddit_subreddit, method='ward.D2')"
   ]
  },
  {
   "cell_type": "code",
   "execution_count": 51,
   "id": "88df9934",
   "metadata": {},
   "outputs": [],
   "source": [
    "# create cuts (2 - 6)\n",
    "cut_2_newsapi_reddit_subreddit <- cutree(clusters_newsapi_reddit_subreddit, k=2)\n",
    "cut_3_newsapi_reddit_subreddit <- cutree(clusters_newsapi_reddit_subreddit, k=3)\n",
    "cut_4_newsapi_reddit_subreddit <- cutree(clusters_newsapi_reddit_subreddit, k=4)\n",
    "cut_5_newsapi_reddit_subreddit <- cutree(clusters_newsapi_reddit_subreddit, k=5)\n",
    "cut_6_newsapi_reddit_subreddit <- cutree(clusters_newsapi_reddit_subreddit, k=6)"
   ]
  },
  {
   "cell_type": "code",
   "execution_count": 52,
   "id": "349e5b1f",
   "metadata": {},
   "outputs": [],
   "source": [
    "# create results dataframe\n",
    "results_newsapi_reddit_subreddit <- data.frame(\n",
    "    File = rownames(tfidf_newsapi_reddit_subreddit),\n",
    "    cluster_2 = cut_2_newsapi_reddit_subreddit,\n",
    "    cluster_3 = cut_3_newsapi_reddit_subreddit,\n",
    "    cluster_4 = cut_4_newsapi_reddit_subreddit,\n",
    "    cluster_5 = cut_5_newsapi_reddit_subreddit,\n",
    "    cluster_6 = cut_6_newsapi_reddit_subreddit\n",
    ")"
   ]
  },
  {
   "cell_type": "code",
   "execution_count": 53,
   "id": "b6092c80",
   "metadata": {},
   "outputs": [],
   "source": [
    "# save results dataframe\n",
    "write.csv(results_newsapi_reddit_subreddit, 'hierarchical_results/hierarchical_newsapi_reddit_subreddit.csv', row.names=FALSE)"
   ]
  },
  {
   "cell_type": "code",
   "execution_count": 55,
   "id": "d20f95bb",
   "metadata": {},
   "outputs": [],
   "source": [
    "news_subreddit <- as.dendrogram(clusters_newsapi_reddit_subreddit)"
   ]
  },
  {
   "cell_type": "code",
   "execution_count": 57,
   "id": "f21bba2b",
   "metadata": {},
   "outputs": [],
   "source": [
    "# function to rename the labels\n",
    "labels(news_subreddit) <- sapply(labels(news_subreddit), function(x) {\n",
    "  if (startsWith(x, \"Reddit\")) {\n",
    "    return(\"Reddit\")\n",
    "  } else if (startsWith(x, \"NewsAPI\")) {\n",
    "    return(\"NewsAPI\")\n",
    "  } else {\n",
    "    # retain label if not Reddit or NewsAPI  \n",
    "    return(x)\n",
    "  }\n",
    "})"
   ]
  },
  {
   "cell_type": "code",
   "execution_count": 68,
   "id": "0926736b",
   "metadata": {},
   "outputs": [],
   "source": [
    "# function to color the labels\n",
    "label_colors <- function(node) {\n",
    "  label <- attr(node, \"label\")\n",
    "  if (!is.null(label)) {\n",
    "    if (label == \"Reddit\") {\n",
    "      attr(node, \"nodePar\") <- list(lab.col = \"red\")\n",
    "    } else if (label == \"NewsAPI\") {\n",
    "      attr(node, \"nodePar\") <- list(lab.col = \"blue\")\n",
    "    }\n",
    "  }\n",
    "  return(node)\n",
    "}"
   ]
  },
  {
   "cell_type": "code",
   "execution_count": 69,
   "id": "127b9110",
   "metadata": {},
   "outputs": [],
   "source": [
    "# apply the color function to the dendrogram labels\n",
    "news_subreddit <- dendrapply(news_subreddit, label_colors)"
   ]
  },
  {
   "cell_type": "code",
   "execution_count": 72,
   "id": "1a873a87",
   "metadata": {
    "scrolled": false
   },
   "outputs": [
    {
     "data": {
      "image/png": "[encoded data removed]",
      "text/plain": [
       "Plot with title \"NewsAPI Source Schema vs. Reddit Subreddit Schema\""
      ]
     },
     "metadata": {
      "image/png": {
       "height": 420,
       "width": 420
      }
     },
     "output_type": "display_data"
    }
   ],
   "source": [
    "# plot dendrogram with altered labels\n",
    "par(mar = c(1, 1, 1, 7))\n",
    "plot(news_subreddit, horiz = TRUE, axes = FALSE, main=\"NewsAPI Source Schema vs. Reddit Subreddit Schema\")\n",
    "abline(v = 350, lty = 2)"
   ]
  },
  {
   "cell_type": "markdown",
   "id": "d20f9a7f",
   "metadata": {},
   "source": [
    "---"
   ]
  }
 ],
 "metadata": {
  "kernelspec": {
   "display_name": "R",
   "language": "R",
   "name": "ir"
  },
  "language_info": {
   "codemirror_mode": "r",
   "file_extension": ".r",
   "mimetype": "text/x-r-source",
   "name": "R",
   "pygments_lexer": "r",
   "version": "4.3.1"
  }
 },
 "nbformat": 4,
 "nbformat_minor": 5
}
