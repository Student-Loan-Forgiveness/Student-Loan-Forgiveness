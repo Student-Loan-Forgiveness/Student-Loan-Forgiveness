{
  "cells": [
    {
      "cell_type": "markdown",
      "metadata": {},
      "source": [
        "---\n",
        "title: \"Data - Reddit\"\n",
        "---\n",
        "\n",
        "\n",
        "\n",
        "\n",
        "Data acquired from Reddit.\n"
      ],
      "id": "265c7612"
    },
    {
      "cell_type": "code",
      "metadata": {},
      "source": [
        "# import libraries\n",
        "import pandas as pd\n",
        "from itables import show\n",
        "\n",
        "# import data\n",
        "reddit_raw = pd.read_csv('data/reddit_data/reddit_raw_snippet.csv')\n",
        "reddit_clean = pd.read_csv('data/reddit_data/reddit_clean_snippet.csv')"
      ],
      "id": "5f0a388e",
      "execution_count": null,
      "outputs": []
    },
    {
      "cell_type": "code",
      "metadata": {},
      "source": [
        "show(truncated_newsapi_labeled, columnDefs=[{\"width\": \"120px\", \"targets\": \"_all\"}], autoWidth=False, classes=\"display\")"
      ],
      "id": "63bfbc46",
      "execution_count": null,
      "outputs": []
    }
  ],
  "metadata": {
    "kernelspec": {
      "name": "python3",
      "language": "python",
      "display_name": "Python 3 (ipykernel)",
      "path": "C:\\Users\\carlj\\anaconda3\\share\\jupyter\\kernels\\python3"
    }
  },
  "nbformat": 4,
  "nbformat_minor": 5
}